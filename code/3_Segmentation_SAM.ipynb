{
 "cells": [
  {
   "cell_type": "markdown",
   "metadata": {},
   "source": [
    "# Utilisation du modèle fondation SAM\n",
    "\n",
    "Un modèle fondation est un modèle généraliste, pré appris sur des données variées et permettant d'intégrer l'ensemble des représentations utiles pour les images. \n",
    "\n",
    "Le but de ces modèles est de mettre à disposition des modèles appris peu spécifiques mais permettant de profiter des puissances d'apprentissage non disponibles de manière personnelle. \n",
    "\n",
    "Dans ce document, nous allons tester le modèle de segmentation fourni par Meta, maison mère de Facebook, appelé Segment Anything Model (SAM).\n",
    "\n",
    "N'hésitez pas à tester par vous même la puissance de ce genre de modèle :\n",
    " * [lien]() \n",
    " * [exemples]()\n",
    "\n",
    "Le but ultime de ces modèles est d'être affiné sur des problématiques spécifiques. Mais pour cela, il nous faut des données et de la puissance de calcul."
   ]
  },
  {
   "cell_type": "markdown",
   "metadata": {},
   "source": [
    "## Chargement du modèle\n",
    "\n",
    "1. Dans un premier temps, nous allons utiliser la bibliothèque fournir par Meta. La première ligne permet de charger les fonctions utiles pour le chargement.\n",
    "\n",
    "2. La deuxième ligne permet de charger les poids du réseau (ce qui a été appris et fourni par Meta) et les intégrer dans notre modèle. Ces poids constituent les paramètres du modèle, et ont été optimisés en utilisant un grand nombre de données. \n",
    "\n",
    "3. Enfin, la derniere ligne nous permet de créer un modele de segmentation, que l'on va pouvoir appliquer sur des images."
   ]
  },
  {
   "cell_type": "code",
   "execution_count": 1,
   "metadata": {},
   "outputs": [],
   "source": [
    "\n",
    "import matplotlib.pyplot as plt\n",
    "\n",
    "from segment_anything import SamAutomaticMaskGenerator, sam_model_registry\n",
    "sam = sam_model_registry[\"default\"](checkpoint=\"./assets/sam_vit_h_4b8939.pth\")\n",
    "mask_generator = SamAutomaticMaskGenerator(sam)"
   ]
  },
  {
   "cell_type": "markdown",
   "metadata": {},
   "source": [
    "## Chargement d'une image\n",
    "\n",
    "Afin de pouvoir évaluer qualitativement notre modèle fondation, nous allons charger une image à segmenter. Renseignez le dossier et l'image que vous souhaitez tester. \n",
    "\n",
    "Dans cet atelier, nous allons nous focaliser sur des images en niveaux de gris, où chaque pixel est associé à une valeur, au lieu de trois dans le cas d'images couleurs.  "
   ]
  },
  {
   "cell_type": "code",
   "execution_count": 8,
   "metadata": {},
   "outputs": [],
   "source": [
    "import os\n",
    "import cv2\n",
    "import numpy as np\n",
    "\n",
    "# Dossier dans lequel se trouve les images.\n",
    "tiff_folder = './images_raw/CEA2_MEB'\n",
    "# Image à tester\n",
    "image = \"Image_4_01.tif\"\n",
    "image_path = os.path.join(tiff_folder, image)\n",
    "\n",
    "# On convertit l'image en niveaux de gris. \n",
    "image = cv2.imread(image_path, cv2.IMREAD_UNCHANGED)\n",
    "if len(image.shape) == 2:\n",
    "    image = cv2.cvtColor(image, cv2.COLOR_GRAY2RGB)\n"
   ]
  },
  {
   "cell_type": "markdown",
   "metadata": {},
   "source": [
    "Affichons maintenant l'image, grâce à la bibliothèque `matplotlib`"
   ]
  },
  {
   "cell_type": "code",
   "execution_count": null,
   "metadata": {},
   "outputs": [],
   "source": [
    "\n",
    "plt.figure(figsize=(10,10))\n",
    "plt.imshow(image, cmap='gray')\n",
    "plt.axis('off')\n",
    "plt.show()\n"
   ]
  },
  {
   "cell_type": "markdown",
   "metadata": {},
   "source": [
    "## Segmentation \n",
    "\n",
    "Une fois le modèle chargé, la segmentation est triviale d'un point de vue du code utilisé, merci la bibliothèque !\n",
    "\n",
    "Attention toutefois, le modèle étant très lourd, la segmentation peut durer plusieurs minutes sur des machines modestes, sans unité de calcul dédiées."
   ]
  },
  {
   "cell_type": "code",
   "execution_count": 10,
   "metadata": {},
   "outputs": [],
   "source": [
    "# La ligne de code qui segmente !\n",
    "masks = mask_generator.generate(image)"
   ]
  },
  {
   "cell_type": "markdown",
   "metadata": {},
   "source": [
    "Maintenant, jetons un oeil au résultat de notre segmentation. La variable `masks` contient un ensemble de zones homogènes correspondant aux régions segmentées. Par exemple, en regardant la longueur de la séquence on peut connaitre le nombre de régions identifiées. \n",
    "\n",
    "Pour chaque région, nous avons la carte de la région considérée dans la clé `segmentation`"
   ]
  },
  {
   "cell_type": "code",
   "execution_count": null,
   "metadata": {},
   "outputs": [],
   "source": [
    "nb_regions = len(masks)\n",
    "print(f\"Nombre de régions détectées : {nb_regions}\")\n",
    "\n",
    "fig, ax = plt.subplots(1,3, figsize=(10,3))\n",
    "# La premiere région est le fond \n",
    "ax[0].imshow(...) # afficher la premiere region\n",
    "# La deuxieme région est le fond \n",
    "ax[1].imshow(...) # afficher la deuxieme region\n",
    "\n",
    "# Affichez une région de votre choix  \n",
    "ax[2].imshow(...)\n"
   ]
  },
  {
   "cell_type": "markdown",
   "metadata": {},
   "source": [
    "Afin d'avoir un affichage plus complet, nous avons implémetés deux fonctions permettant soit de représenter l'ensemble des régions (`show_anns`) ou alors les contours de l'ensemble des régions (̀`show_contours_yellow`). "
   ]
  },
  {
   "cell_type": "code",
   "execution_count": 33,
   "metadata": {},
   "outputs": [],
   "source": [
    "def show_regions(masks):\n",
    "    \"\"\"\n",
    "    Affiche chaque région présente dans masks avec une couleur différente \n",
    "    \"\"\"\n",
    "    if len(masks) == 0:\n",
    "        return\n",
    "    sorted_anns = sorted(masks, key=(lambda x: x['area']), reverse=True)\n",
    "    ax = plt.gca()\n",
    "    ax.set_autoscale_on(False)\n",
    "\n",
    "    img = np.ones((sorted_anns[0]['segmentation'].shape[0], sorted_anns[0]['segmentation'].shape[1], 4))\n",
    "    img[:,:,3] = 0\n",
    "    for ann in sorted_anns:\n",
    "        m = ann['segmentation']\n",
    "        color_mask = np.concatenate([np.random.random(3), [0.35]])\n",
    "        img[m] = color_mask\n",
    "    ax.imshow(img)\n",
    "\n",
    "def show_contours(masks):\n",
    "    \"\"\"\n",
    "    Dessine les contours de chaque région présente dans masks en rouge \n",
    "    \"\"\"\n",
    "    if len(masks) == 0:\n",
    "        return\n",
    "    sorted_anns = sorted(masks, key=(lambda x: x['area']), reverse=True)\n",
    "    ax = plt.gca()\n",
    "    ax.set_autoscale_on(False)\n",
    "\n",
    "    img = np.ones((sorted_anns[0]['segmentation'].shape[0], sorted_anns[0]['segmentation'].shape[1], 4))\n",
    "    img[:,:,3] = 0\n",
    "    for ann in sorted_anns:\n",
    "        m = ann['segmentation']\n",
    "        contours, _ = cv2.findContours(m.astype(np.uint8), cv2.RETR_EXTERNAL, cv2.CHAIN_APPROX_SIMPLE)\n",
    "        cv2.drawContours(img, contours, -1, (255, 255, 0, 0.35), 2)  # Draw contours in yellow\n",
    "    ax.imshow(img)\n",
    "\n"
   ]
  },
  {
   "cell_type": "code",
   "execution_count": null,
   "metadata": {},
   "outputs": [],
   "source": [
    "# Affichez les régions avec la fonction show_regions\n",
    "..."
   ]
  },
  {
   "cell_type": "code",
   "execution_count": null,
   "metadata": {},
   "outputs": [],
   "source": [
    "# Affichez les contours avec la fonction show_contours\n",
    "..."
   ]
  },
  {
   "cell_type": "markdown",
   "metadata": {},
   "source": [
    "Voilà, vous avez utilisé un modèle fondation, félicitations. Si vous souhaitez aller plus loin : \n",
    " - Tester d'autres images, et essayer de challenger le modèle. Il n'est pas parfait !\n",
    " - Surveiller l'apparation de nouveaux poids, et testez les en lieu et place de la configuration actuelle.\n",
    "  - Tester SAM v2 !"
   ]
  },
  {
   "cell_type": "code",
   "execution_count": null,
   "metadata": {},
   "outputs": [],
   "source": []
  }
 ],
 "metadata": {
  "kernelspec": {
   "display_name": "aerosol",
   "language": "python",
   "name": "aerosol"
  },
  "language_info": {
   "codemirror_mode": {
    "name": "ipython",
    "version": 3
   },
   "file_extension": ".py",
   "mimetype": "text/x-python",
   "name": "python",
   "nbconvert_exporter": "python",
   "pygments_lexer": "ipython3",
   "version": "3.10.13"
  }
 },
 "nbformat": 4,
 "nbformat_minor": 2
}
